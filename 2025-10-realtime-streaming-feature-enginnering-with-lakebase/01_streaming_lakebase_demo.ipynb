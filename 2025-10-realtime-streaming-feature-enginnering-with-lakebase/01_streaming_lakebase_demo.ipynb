{
  "cells": [
    {
      "cell_type": "markdown",
      "metadata": {},
      "source": ["# Streaming Feature Engineering with Lakebase PostgreSQL\n", "\n", "Demo: Real-time features → PostgreSQL"]
    },
    {
      "cell_type": "code",
      "execution_count": null,
      "metadata": {},
      "outputs": [],
      "source": ["from data_generator import TransactionDataGenerator\n", "from feature_engineering import AdvancedFeatureEngineering\n", "from lakebase_client import LakebaseClient\n", "import time"]
    },
    {
      "cell_type": "code",
      "execution_count": null,
      "metadata": {},
      "outputs": [],
      "source": ["# Get OAuth token\n", "token = dbutils.notebook.entry_point.getDbutils().notebook().getContext().apiToken().get()\n", "\n", "# Initialize Lakebase client\n", "lakebase = LakebaseClient(\n", "    host=\"your-workspace.cloud.databricks.com\",\n", "    port=5432,\n", "    database=\"feature_store\",\n", "    user=\"token\",\n", "    password=token\n", ")\n", "\n", "if lakebase.test_connection():\n", "    print(\"✅ Connected to Lakebase PostgreSQL\")"]
    },
    {
      "cell_type": "code",
      "execution_count": null,
      "metadata": {},
      "outputs": [],
      "source": ["# Generate streaming data\n", "generator = TransactionDataGenerator()\n", "streaming_df = generator.generate_transaction_data(num_users=20, num_merchants=50, rows_per_second=10)\n", "\n", "# Apply features\n", "feature_engineer = AdvancedFeatureEngineering()\n", "df_with_features = feature_engineer.apply_all_features(streaming_df)\n", "\n", "print(\"✅ Features applied\")"]
    },
    {
      "cell_type": "code",
      "execution_count": null,
      "metadata": {},
      "outputs": [],
      "source": ["# Write to Lakebase PostgreSQL\n", "query = feature_engineer.write_features_to_lakebase(\n", "    df=df_with_features,\n", "    lakebase_client=lakebase,\n", "    table_name=\"transaction_features\"\n", ")\n", "\n", "print(\"🚀 Streaming to Lakebase PostgreSQL...\")\n", "time.sleep(60)\n", "query.stop()\n", "print(\"✅ Done\")"]
    },
    {
      "cell_type": "code",
      "execution_count": null,
      "metadata": {},
      "outputs": [],
      "source": ["# Query features\n", "stats = lakebase.get_table_stats()\n", "print(f\"📊 Total rows: {stats['total_rows']:,}\")\n", "\n", "recent = lakebase.read_features('SELECT * FROM transaction_features ORDER BY timestamp DESC LIMIT 10')\n", "display(recent)"]
    }
  ],
  "metadata": {"kernelspec": {"display_name": "Python 3", "language": "python", "name": "python3"}},
  "nbformat": 4,
  "nbformat_minor": 4
}
